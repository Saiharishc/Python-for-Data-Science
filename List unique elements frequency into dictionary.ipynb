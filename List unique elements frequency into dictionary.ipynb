{
 "cells": [
  {
   "cell_type": "code",
   "execution_count": null,
   "metadata": {},
   "outputs": [],
   "source": [
    "input()"
   ]
  },
  {
   "cell_type": "code",
   "execution_count": 5,
   "metadata": {},
   "outputs": [
    {
     "name": "stdout",
     "output_type": "stream",
     "text": [
      "hello world\n"
     ]
    }
   ],
   "source": [
    "print(\"hello world\")"
   ]
  },
  {
   "cell_type": "code",
   "execution_count": 6,
   "metadata": {},
   "outputs": [
    {
     "name": "stdout",
     "output_type": "stream",
     "text": [
      "555555\n"
     ]
    }
   ],
   "source": [
    "print(\"5\"*6)"
   ]
  },
  {
   "cell_type": "code",
   "execution_count": 7,
   "metadata": {},
   "outputs": [
    {
     "name": "stdout",
     "output_type": "stream",
     "text": [
      "(3, 4, 5, 6)\n"
     ]
    }
   ],
   "source": [
    "print(3,4,5,6)"
   ]
  },
  {
   "cell_type": "code",
   "execution_count": 12,
   "metadata": {},
   "outputs": [
    {
     "name": "stdout",
     "output_type": "stream",
     "text": [
      "('hello', 3, 45)\n"
     ]
    }
   ],
   "source": [
    "print(\"hello\",3, 45)"
   ]
  },
  {
   "cell_type": "code",
   "execution_count": 32,
   "metadata": {},
   "outputs": [
    {
     "name": "stdout",
     "output_type": "stream",
     "text": [
      "{1: 0, 2: 0, 3: 0, 4: 0, 5: 0, 6: 0, 7: 0, 8: 0, 9: 0}\n"
     ]
    }
   ],
   "source": [
    "lst=[1,2,1,1,1,2,2,3,4,4,3,4,4,5,6,7,8,9,5,9,9,9]\n",
    "unq=list(set(lst))\n",
    "dct={}\n",
    "for i in unq:\n",
    "    dct[i]=0\n",
    "print(dct)\n",
    "\n",
    "\n",
    "for i in lst:\n",
    "    if i in dct.keys():\n",
    "        dct[i]=dct[i]+1\n",
    "#print(dct)"
   ]
  },
  {
   "cell_type": "code",
   "execution_count": null,
   "metadata": {},
   "outputs": [],
   "source": [
    "mylist = [\"armadillo\", \"zebra\", \"guppy\", \"cat\",\"maze\",\"axer\"]\n",
    "#bubble sort maximum iterations is n(n-1)/2\n",
    "for j in range((len(mylist)*(len(mylist)-1))/2):\n",
    "    k=0\n",
    "    for i in mylist:\n",
    "        if mylist[k+1]<mylist[k]:\n",
    "            a=mylist[k+1]\n",
    "            mylist[k+1]=mylist[k]\n",
    "            mylist[k]=a\n",
    "            #print(mylist)\n",
    "        if k<len(mylist)-2:    \n",
    "            k=k+1    \n",
    "print(mylist)\n",
    "#mylist[0]<mylist[1]"
   ]
  },
  {
   "cell_type": "code",
   "execution_count": 58,
   "metadata": {},
   "outputs": [
    {
     "name": "stdout",
     "output_type": "stream",
     "text": [
      "['and', 'cat', 'chased', 'dog', 'the']\n"
     ]
    }
   ],
   "source": [
    "counts = { \"the\" : 3, \"cat\":2, \"and\":1, \"chased\":1, \"dog\":1}\n",
    "#print(sorted(counts))\n",
    "mylist=counts.keys()\n",
    "for j in range((len(mylist)*(len(mylist)-1))/2):\n",
    "    k=0\n",
    "    for i in mylist:\n",
    "        if mylist[k+1]<mylist[k]:\n",
    "            a=mylist[k+1]\n",
    "            mylist[k+1]=mylist[k]\n",
    "            mylist[k]=a\n",
    "            #print(mylist)\n",
    "        if k<len(mylist)-2:    \n",
    "            k=k+1    \n",
    "print(mylist)"
   ]
  },
  {
   "cell_type": "code",
   "execution_count": 66,
   "metadata": {},
   "outputs": [
    {
     "name": "stdout",
     "output_type": "stream",
     "text": [
      "[('and', 1), ('the', 3), ('chased', 1), ('dog', 1), ('cat', 2)]\n"
     ]
    }
   ],
   "source": [
    "counts = { \"the\" : 3, \"cat\":2, \"and\":1, \"chased\":1, \"dog\":1}\n",
    "lst=counts.items()\n",
    "print(lst)"
   ]
  },
  {
   "cell_type": "code",
   "execution_count": 69,
   "metadata": {},
   "outputs": [
    {
     "name": "stdout",
     "output_type": "stream",
     "text": [
      "[('and', 1), ('cat', 2), ('chased', 1), ('dog', 1), ('the', 3)]\n"
     ]
    }
   ],
   "source": [
    "mylist=lst\n",
    "for j in range((len(mylist)*(len(mylist)-1))/2):\n",
    "    k=0\n",
    "    for i in mylist:\n",
    "        if mylist[k+1]<mylist[k]:\n",
    "            a=mylist[k+1]\n",
    "            mylist[k+1]=mylist[k]\n",
    "            mylist[k]=a\n",
    "            #print(mylist)\n",
    "        if k<len(mylist)-2:    \n",
    "            k=k+1    \n",
    "print(mylist)"
   ]
  },
  {
   "cell_type": "code",
   "execution_count": 73,
   "metadata": {},
   "outputs": [
    {
     "data": {
      "text/plain": [
       "[('and', 1), ('chased', 1), ('dog', 1), ('cat', 2), ('the', 3)]"
      ]
     },
     "execution_count": 73,
     "metadata": {},
     "output_type": "execute_result"
    }
   ],
   "source": [
    "def second_of_pair(tuple):\n",
    "    return tuple[1]\n",
    "counts = { \"the\" : 3, \"cat\":2, \"and\":1, \"chased\":1, \"dog\":1}\n",
    "#counts.items()\n",
    "sorted(counts.items(), key = second_of_pair)"
   ]
  },
  {
   "cell_type": "code",
   "execution_count": null,
   "metadata": {},
   "outputs": [],
   "source": [
    "counts = { \"the\" : 3, \"cat\":2, \"and\":1, \"chased\":1, \"dog\":1}\n",
    "mylist=counts.items()\n",
    "for j in range((len(mylist)*(len(mylist)-1))/2):\n",
    "    k=0\n",
    "    for i in mylist:\n",
    "        if mylist[k+1]<mylist[k]:\n",
    "            a=mylist[k+1]\n",
    "            mylist[k+1]=mylist[k]\n",
    "            mylist[k]=a\n",
    "            #print(mylist)\n",
    "        if k<len(mylist)-2:    \n",
    "            k=k+1    \n",
    "print(mylist)\n",
    "#print(dict(mylist))\n",
    "\n",
    "mylist1=mylist[:]\n",
    "print(mylist1)\n",
    "print(dict(mylist1))\n",
    "mylist=(dict(mylist)).values()\n",
    "print(mylist)\n",
    "for j in range((len(mylist)*(len(mylist)-1))/2):\n",
    "    k=0\n",
    "    for i in mylist:\n",
    "        if mylist[k+1]<mylist[k]:\n",
    "            a=mylist1[k+1]\n",
    "            mylist1[k+1]=mylist1[k]\n",
    "            mylist1[k]=a\n",
    "            print(mylist1)\n",
    "        if k<len(mylist)-2:    \n",
    "            k=k+1    \n",
    "print(mylist1)\n"
   ]
  },
  {
   "cell_type": "code",
   "execution_count": 92,
   "metadata": {},
   "outputs": [
    {
     "name": "stdout",
     "output_type": "stream",
     "text": [
      "[1, 1, 1, 2, 3]\n"
     ]
    }
   ],
   "source": [
    "counts = { \"the\" : 3, \"cat\":2, \"and\":1, \"chased\":1, \"dog\":1}\n",
    "mylist=counts.values()\n",
    "for j in range((len(mylist)*(len(mylist)-1))/2):\n",
    "    k=0\n",
    "    for i in mylist:\n",
    "        if mylist[k+1]<mylist[k]:\n",
    "            a=mylist[k+1]\n",
    "            mylist[k+1]=mylist[k]\n",
    "            mylist[k]=a\n",
    "            #print(mylist)\n",
    "        if k<len(mylist)-2:    \n",
    "            k=k+1    \n",
    "print(mylist)"
   ]
  },
  {
   "cell_type": "code",
   "execution_count": 89,
   "metadata": {},
   "outputs": [
    {
     "data": {
      "text/plain": [
       "[('and', 1), ('cat', 2), ('chased', 1), ('dog', 1), ('the', 3)]"
      ]
     },
     "execution_count": 89,
     "metadata": {},
     "output_type": "execute_result"
    }
   ],
   "source": [
    "sorted(counts.items())"
   ]
  },
  {
   "cell_type": "code",
   "execution_count": null,
   "metadata": {},
   "outputs": [],
   "source": []
  },
  {
   "cell_type": "code",
   "execution_count": null,
   "metadata": {},
   "outputs": [],
   "source": []
  },
  {
   "cell_type": "code",
   "execution_count": null,
   "metadata": {},
   "outputs": [],
   "source": []
  },
  {
   "cell_type": "code",
   "execution_count": 64,
   "metadata": {},
   "outputs": [
    {
     "name": "stdout",
     "output_type": "stream",
     "text": [
      "['and', 'the', 'chased', 'dog', 'cat']\n",
      "[1, 3, 1, 1, 2]\n"
     ]
    }
   ],
   "source": [
    "print(counts.keys())\n",
    "print(counts.values())"
   ]
  },
  {
   "cell_type": "code",
   "execution_count": null,
   "metadata": {},
   "outputs": [],
   "source": []
  },
  {
   "cell_type": "code",
   "execution_count": null,
   "metadata": {},
   "outputs": [],
   "source": []
  },
  {
   "cell_type": "code",
   "execution_count": null,
   "metadata": {},
   "outputs": [],
   "source": []
  }
 ],
 "metadata": {
  "kernelspec": {
   "display_name": "python3.5",
   "language": "python",
   "name": "python3.5"
  },
  "language_info": {
   "codemirror_mode": {
    "name": "ipython",
    "version": 2
   },
   "file_extension": ".py",
   "mimetype": "text/x-python",
   "name": "python",
   "nbconvert_exporter": "python",
   "pygments_lexer": "ipython2",
   "version": "2.7.17"
  }
 },
 "nbformat": 4,
 "nbformat_minor": 2
}
